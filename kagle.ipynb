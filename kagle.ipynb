{
  "nbformat": 4,
  "nbformat_minor": 0,
  "metadata": {
    "colab": {
      "name": "kagle.ipynb",
      "provenance": [],
      "authorship_tag": "ABX9TyM8L+wz9OAM0tvVonW4x5Jd",
      "include_colab_link": true
    },
    "kernelspec": {
      "name": "python3",
      "display_name": "Python 3"
    },
    "language_info": {
      "name": "python"
    }
  },
  "cells": [
    {
      "cell_type": "markdown",
      "metadata": {
        "id": "view-in-github",
        "colab_type": "text"
      },
      "source": [
        "<a href=\"https://colab.research.google.com/github/Abhinavjoshi7891/Google-Colab-Abhinav/blob/main/kagle.ipynb\" target=\"_parent\"><img src=\"https://colab.research.google.com/assets/colab-badge.svg\" alt=\"Open In Colab\"/></a>"
      ]
    },
    {
      "cell_type": "markdown",
      "metadata": {
        "id": "AfW6as28b5Vk"
      },
      "source": [
        "# TalkingData: Fraudulent Click Prediction"
      ]
    },
    {
      "cell_type": "markdown",
      "metadata": {
        "id": "4K1cTDKBb-kd"
      },
      "source": [
        "## In this notebook, we will apply various boosting algorithms to solve an interesting classification problem from the domain of 'digital fraud'.\n",
        "### The analysis is divided into the following sections:\n",
        "\n",
        "- Understanding the business problem\n",
        "- Understanding and exploring the data\n",
        "- Feature engineering: Creating new features\n",
        "- Model building and evaluation: AdaBoost\n",
        "- Modelling building and evaluation: Gradient Boosting\n",
        "- Modelling building and evaluation: XGBoost"
      ]
    },
    {
      "cell_type": "markdown",
      "metadata": {
        "id": "2XLE3Fnwcavt"
      },
      "source": [
        "# **Understanding the Business Problem**\n",
        "TalkingData is a Chinese big data company, and one of their areas of expertise is mobile advertisements.\n",
        "\n",
        "In mobile advertisements, click fraud is a major source of losses. Click fraud is the practice of repeatedly clicking on an advertisement hosted on a website with the intention of generating revenue for the host website or draining revenue from the advertiser.\n",
        "\n",
        "In this case, TalkingData happens to be serving the advertisers (their clients). TalkingData cover a whopping approx. 70% of the active mobile devices in China, of which 90% are potentially fraudulent (i.e. the user is actually not going to download the app after clicking).\n",
        "\n",
        "You can imagine the amount of money they can help clients save if they are able to predict whether a given click is fraudulent (or equivalently, whether a given click will result in a download).\n",
        "\n",
        "Their current approach to solve this problem is that they've generated a blacklist of IP addresses - those IPs which produce lots of clicks, but never install any apps. Now, they want to try some advanced techniques to predict the probability of a click being genuine/fraud.\n",
        "\n",
        "In this problem, we will use the features associated with clicks, such as IP address, operating system, device type, time of click etc. to predict the probability of a click being fraud.\n",
        "\n",
        "They have released the problem on Kaggle here.."
      ]
    },
    {
      "cell_type": "markdown",
      "metadata": {
        "id": "DaQRwIfwcayx"
      },
      "source": [
        "# **Understanding and Exploring the Data**\n",
        "The data contains observations of about 240 million clicks, and whether a given click resulted in a download or not (1/0).\n",
        "\n",
        "On Kaggle, the data is split into train.csv and train_sample.csv (100,000 observations). We'll use the smaller train_sample.csv in this notebook for speed, though while training the model for Kaggle submissions, the full training data will obviously produce better results.\n",
        "\n",
        "The detailed data dictionary is mentioned here:\n",
        "\n",
        "- ip: ip address of click.\n",
        "- app: app id for marketing.\n",
        "- device: device type id of user mobile phone (e.g., iphone 6 plus, iphone 7, - huawei mate 7, etc.)\n",
        "- os: os version id of user mobile phone\n",
        "- channel: channel id of mobile ad publisher\n",
        "- click_time: timestamp of click (UTC)\n",
        "- attributed_time: if user download the app for after clicking an ad, this is the time of the app download\n",
        "- is_attributed: the target that is to be predicted, indicating the app was downloaded\n",
        "Let's try finding some useful trends in the data."
      ]
    },
    {
      "cell_type": "markdown",
      "metadata": {
        "id": "7_RdqWA0ca1p"
      },
      "source": [
        ""
      ]
    },
    {
      "cell_type": "markdown",
      "metadata": {
        "id": "X3SuCsLtca6S"
      },
      "source": [
        ""
      ]
    },
    {
      "cell_type": "code",
      "metadata": {
        "id": "TcrHJH3HcXzX"
      },
      "source": [
        "## importing libraries\n",
        "import pandas as pd\n",
        "import numpy as np\n",
        "import matplotlib.pyplot as plt\n",
        "import seaborn as sns\n",
        "import warnings\n",
        "warnings.filterwarnings('ignore')"
      ],
      "execution_count": 3,
      "outputs": []
    },
    {
      "cell_type": "markdown",
      "metadata": {
        "id": "yS5LaEtQds8c"
      },
      "source": [
        ""
      ]
    },
    {
      "cell_type": "markdown",
      "metadata": {
        "id": "BPsBuoOmdtJA"
      },
      "source": [
        "## Reading the Data\n",
        "The code below reads the train_sample.csv file if you set testing = True, else reads the full train.csv file. You can read the sample while tuning the model etc., and then run the model on the full data once done.\n",
        "\n",
        "## Important Note: Save memory when the data is huge\n",
        "Since the training data is quite huge, the program will be quite slow if you don't consciously follow some best practices to save memory. This notebook demonstrates some of those practices."
      ]
    },
    {
      "cell_type": "code",
      "metadata": {
        "id": "L9N7ZJvab4r8"
      },
      "source": [
        "## reading the training data\n",
        "## # specify column dtypes to save memory (by default pandas reads some columns as floats)\n",
        "dtypes = {\n",
        "        'ip'            : 'uint16',\n",
        "        'app'           : 'uint16',\n",
        "        'device'        : 'uint16',\n",
        "        'os'            : 'uint16',\n",
        "        'channel'       : 'uint16',\n",
        "        'is_attributed' : 'uint8',\n",
        "        'click_id'      : 'uint32' # note that click_id is only in test data, not training data\n",
        "        }\n",
        "## read training_sample.csv for quick testing/debug, else read the full train.csv\n",
        "testing = True\n",
        "if testing:\n",
        "    train_path = \"train_sample.csv\"\n",
        "    skiprows = None\n",
        "    nrows = None\n",
        "    colnames=['ip','app','device','os', 'channel', 'click_time', 'is_attributed']\n",
        "else:\n",
        "    train_path = \"train.csv\"\n",
        "    skiprows = range(1, 144903891)\n",
        "    nrows = 10000000\n",
        "    colnames=['ip','app','device','os', 'channel', 'click_time', 'is_attributed']\n"
      ],
      "execution_count": 4,
      "outputs": []
    },
    {
      "cell_type": "code",
      "metadata": {
        "id": "jvqJSpNUezTr"
      },
      "source": [
        "# read training data\n",
        "train_sample = pd.read_csv(train_path, skiprows=skiprows, nrows=nrows, dtype=dtypes, usecols=colnames)"
      ],
      "execution_count": 5,
      "outputs": []
    },
    {
      "cell_type": "code",
      "metadata": {
        "colab": {
          "base_uri": "https://localhost:8080/"
        },
        "id": "S1svHgY2e49r",
        "outputId": "05033ca0-2257-47f1-d007-a385b14be010"
      },
      "source": [
        "## lenght of the training data\n",
        "len(train_sample.index)"
      ],
      "execution_count": 6,
      "outputs": [
        {
          "output_type": "execute_result",
          "data": {
            "text/plain": [
              "100000"
            ]
          },
          "metadata": {
            "tags": []
          },
          "execution_count": 6
        }
      ]
    },
    {
      "cell_type": "code",
      "metadata": {
        "colab": {
          "base_uri": "https://localhost:8080/"
        },
        "id": "3cIbNI_pfG6Q",
        "outputId": "93659b99-1268-4e25-e53c-e94a940d35d2"
      },
      "source": [
        "## Displays memory consumed by each column ---\n",
        "print(train_sample.memory_usage())"
      ],
      "execution_count": 7,
      "outputs": [
        {
          "output_type": "stream",
          "text": [
            "Index               128\n",
            "ip               200000\n",
            "app              200000\n",
            "device           200000\n",
            "os               200000\n",
            "channel          200000\n",
            "click_time       800000\n",
            "is_attributed    100000\n",
            "dtype: int64\n"
          ],
          "name": "stdout"
        }
      ]
    },
    {
      "cell_type": "code",
      "metadata": {
        "colab": {
          "base_uri": "https://localhost:8080/"
        },
        "id": "erBonNNzfXt8",
        "outputId": "50e0aafe-6055-4c62-a116-baf8de36edfb"
      },
      "source": [
        "## space used by training data\n",
        "space = train_sample.memory_usage().sum()/1024**2\n",
        "print(f'Training dataset uses {space} MB data',space)"
      ],
      "execution_count": 8,
      "outputs": [
        {
          "output_type": "stream",
          "text": [
            "Training dataset uses 1.812103271484375 MB data 1.812103271484375\n"
          ],
          "name": "stdout"
        }
      ]
    },
    {
      "cell_type": "code",
      "metadata": {
        "colab": {
          "base_uri": "https://localhost:8080/",
          "height": 204
        },
        "id": "bUhwJ_76gGw2",
        "outputId": "db960cf2-90cd-4c58-98d4-fbe7aa710cf2"
      },
      "source": [
        "train_sample.head()"
      ],
      "execution_count": 9,
      "outputs": [
        {
          "output_type": "execute_result",
          "data": {
            "text/html": [
              "<div>\n",
              "<style scoped>\n",
              "    .dataframe tbody tr th:only-of-type {\n",
              "        vertical-align: middle;\n",
              "    }\n",
              "\n",
              "    .dataframe tbody tr th {\n",
              "        vertical-align: top;\n",
              "    }\n",
              "\n",
              "    .dataframe thead th {\n",
              "        text-align: right;\n",
              "    }\n",
              "</style>\n",
              "<table border=\"1\" class=\"dataframe\">\n",
              "  <thead>\n",
              "    <tr style=\"text-align: right;\">\n",
              "      <th></th>\n",
              "      <th>ip</th>\n",
              "      <th>app</th>\n",
              "      <th>device</th>\n",
              "      <th>os</th>\n",
              "      <th>channel</th>\n",
              "      <th>click_time</th>\n",
              "      <th>is_attributed</th>\n",
              "    </tr>\n",
              "  </thead>\n",
              "  <tbody>\n",
              "    <tr>\n",
              "      <th>0</th>\n",
              "      <td>22004</td>\n",
              "      <td>12</td>\n",
              "      <td>1</td>\n",
              "      <td>13</td>\n",
              "      <td>497</td>\n",
              "      <td>2017-11-07 09:30:38</td>\n",
              "      <td>0</td>\n",
              "    </tr>\n",
              "    <tr>\n",
              "      <th>1</th>\n",
              "      <td>40024</td>\n",
              "      <td>25</td>\n",
              "      <td>1</td>\n",
              "      <td>17</td>\n",
              "      <td>259</td>\n",
              "      <td>2017-11-07 13:40:27</td>\n",
              "      <td>0</td>\n",
              "    </tr>\n",
              "    <tr>\n",
              "      <th>2</th>\n",
              "      <td>35888</td>\n",
              "      <td>12</td>\n",
              "      <td>1</td>\n",
              "      <td>19</td>\n",
              "      <td>212</td>\n",
              "      <td>2017-11-07 18:05:24</td>\n",
              "      <td>0</td>\n",
              "    </tr>\n",
              "    <tr>\n",
              "      <th>3</th>\n",
              "      <td>29048</td>\n",
              "      <td>13</td>\n",
              "      <td>1</td>\n",
              "      <td>13</td>\n",
              "      <td>477</td>\n",
              "      <td>2017-11-07 04:58:08</td>\n",
              "      <td>0</td>\n",
              "    </tr>\n",
              "    <tr>\n",
              "      <th>4</th>\n",
              "      <td>2877</td>\n",
              "      <td>12</td>\n",
              "      <td>1</td>\n",
              "      <td>1</td>\n",
              "      <td>178</td>\n",
              "      <td>2017-11-09 09:00:09</td>\n",
              "      <td>0</td>\n",
              "    </tr>\n",
              "  </tbody>\n",
              "</table>\n",
              "</div>"
            ],
            "text/plain": [
              "      ip  app  device  os  channel           click_time  is_attributed\n",
              "0  22004   12       1  13      497  2017-11-07 09:30:38              0\n",
              "1  40024   25       1  17      259  2017-11-07 13:40:27              0\n",
              "2  35888   12       1  19      212  2017-11-07 18:05:24              0\n",
              "3  29048   13       1  13      477  2017-11-07 04:58:08              0\n",
              "4   2877   12       1   1      178  2017-11-09 09:00:09              0"
            ]
          },
          "metadata": {
            "tags": []
          },
          "execution_count": 9
        }
      ]
    },
    {
      "cell_type": "markdown",
      "metadata": {
        "id": "eXoR0vaZhiEP"
      },
      "source": [
        "# Exploring the Data - Univariate Analysis\n",
        "- Let's now understand and explore the data. Let's start with understanding the size and data types of the train_sample data."
      ]
    },
    {
      "cell_type": "code",
      "metadata": {
        "colab": {
          "base_uri": "https://localhost:8080/"
        },
        "id": "XqkQr3E5hal6",
        "outputId": "ab35f0a0-656d-4ae3-9d0f-851bc5e77d65"
      },
      "source": [
        "## checking null values, dtypes \n",
        "train_sample.info()"
      ],
      "execution_count": 10,
      "outputs": [
        {
          "output_type": "stream",
          "text": [
            "<class 'pandas.core.frame.DataFrame'>\n",
            "RangeIndex: 100000 entries, 0 to 99999\n",
            "Data columns (total 7 columns):\n",
            " #   Column         Non-Null Count   Dtype \n",
            "---  ------         --------------   ----- \n",
            " 0   ip             100000 non-null  uint16\n",
            " 1   app            100000 non-null  uint16\n",
            " 2   device         100000 non-null  uint16\n",
            " 3   os             100000 non-null  uint16\n",
            " 4   channel        100000 non-null  uint16\n",
            " 5   click_time     100000 non-null  object\n",
            " 6   is_attributed  100000 non-null  uint8 \n",
            "dtypes: object(1), uint16(5), uint8(1)\n",
            "memory usage: 1.8+ MB\n"
          ],
          "name": "stdout"
        }
      ]
    },
    {
      "cell_type": "markdown",
      "metadata": {
        "id": "-DendqTEh4PB"
      },
      "source": [
        "- NO null values, click_time will have to be fixed later"
      ]
    },
    {
      "cell_type": "markdown",
      "metadata": {
        "id": "3GlTucWciDea"
      },
      "source": [
        "### Basic exploratory analysis"
      ]
    },
    {
      "cell_type": "code",
      "metadata": {
        "colab": {
          "base_uri": "https://localhost:8080/"
        },
        "id": "aCbxR_IYh2_q",
        "outputId": "62fa12c3-b263-4c50-cca6-a77e71efa8cf"
      },
      "source": [
        "## let's check unique values\n",
        "train_sample.nunique()"
      ],
      "execution_count": 11,
      "outputs": [
        {
          "output_type": "execute_result",
          "data": {
            "text/plain": [
              "ip               28470\n",
              "app                161\n",
              "device             100\n",
              "os                 130\n",
              "channel            161\n",
              "click_time       80350\n",
              "is_attributed        2\n",
              "dtype: int64"
            ]
          },
          "metadata": {
            "tags": []
          },
          "execution_count": 11
        }
      ]
    },
    {
      "cell_type": "markdown",
      "metadata": {
        "id": "p5WgUIIOinse"
      },
      "source": [
        ""
      ]
    },
    {
      "cell_type": "markdown",
      "metadata": {
        "id": "qhZ4ph4wioAu"
      },
      "source": [
        "### let's see the distribution of different categories"
      ]
    },
    {
      "cell_type": "code",
      "metadata": {
        "colab": {
          "base_uri": "https://localhost:8080/",
          "height": 932
        },
        "id": "rvxzHIvUhwmw",
        "outputId": "f268ae4f-50b1-42b6-ee92-ad21590dcd42"
      },
      "source": [
        "## countplot for app\n",
        "plt.figure(figsize=(20,16))\n",
        "sns.countplot(data=train_sample,x='app')\n",
        "plt.show()"
      ],
      "execution_count": 12,
      "outputs": [
        {
          "output_type": "display_data",
          "data": {
            "image/png": "[encoded data removed]",
            "text/plain": [
              "<Figure size 1440x1152 with 1 Axes>"
            ]
          },
          "metadata": {
            "tags": [],
            "needs_background": "light"
          }
        }
      ]
    },
    {
      "cell_type": "markdown",
      "metadata": {
        "id": "kelFCF_bjNY5"
      },
      "source": [
        "- Clearly some apps show very high clicks.\n",
        "- This indicates class imbalance"
      ]
    },
    {
      "cell_type": "code",
      "metadata": {
        "colab": {
          "base_uri": "https://localhost:8080/",
          "height": 932
        },
        "id": "HmUrpSGqjJTp",
        "outputId": "4c243957-e104-4a3a-d973-3f7ef1820bf5"
      },
      "source": [
        "## countplot for device \n",
        "plt.figure(figsize=(20,16))\n",
        "sns.countplot(data=train_sample,x='device')\n",
        "plt.show()"
      ],
      "execution_count": 13,
      "outputs": [
        {
          "output_type": "display_data",
          "data": {
            "image/png": "[encoded data removed]",
            "text/plain": [
              "<Figure size 1440x1152 with 1 Axes>"
            ]
          },
          "metadata": {
            "tags": [],
            "needs_background": "light"
          }
        }
      ]
    },
    {
      "cell_type": "markdown",
      "metadata": {
        "id": "yk02hBOEjmVZ"
      },
      "source": [
        "- High class imbalance in device as well\n",
        "- Expected as some devices are more popular "
      ]
    },
    {
      "cell_type": "code",
      "metadata": {
        "colab": {
          "base_uri": "https://localhost:8080/",
          "height": 933
        },
        "id": "u9rPXkFSjcfP",
        "outputId": "0bd74e1f-4be7-4251-edcc-7368da51ca5c"
      },
      "source": [
        "## countplot for os \n",
        "plt.figure(figsize=(20,16))\n",
        "sns.countplot(data=train_sample,x='os')\n",
        "plt.show()"
      ],
      "execution_count": 14,
      "outputs": [
        {
          "output_type": "display_data",
          "data": {
            "image/png": "[encoded data removed]",
            "text/plain": [
              "<Figure size 1440x1152 with 1 Axes>"
            ]
          },
          "metadata": {
            "tags": [],
            "needs_background": "light"
          }
        }
      ]
    },
    {
      "cell_type": "markdown",
      "metadata": {
        "id": "B_QfW3tHlQMG"
      },
      "source": [
        "- Some OS are more popular than others"
      ]
    },
    {
      "cell_type": "code",
      "metadata": {
        "colab": {
          "base_uri": "https://localhost:8080/",
          "height": 932
        },
        "id": "prCmvtsOjvy9",
        "outputId": "3434bbb8-6471-48bf-d6ca-c9f8ed02e656"
      },
      "source": [
        "## countplot for channel\n",
        "plt.figure(figsize=(20,16))\n",
        "sns.countplot(data=train_sample,x='channel')\n",
        "plt.show()"
      ],
      "execution_count": 15,
      "outputs": [
        {
          "output_type": "display_data",
          "data": {
            "image/png": "[encoded data removed]",
            "text/plain": [
              "<Figure size 1440x1152 with 1 Axes>"
            ]
          },
          "metadata": {
            "tags": [],
            "needs_background": "light"
          }
        }
      ]
    },
    {
      "cell_type": "markdown",
      "metadata": {
        "id": "UpJNJ1gSlVlS"
      },
      "source": [
        "- Channels have more or less equitable distribution"
      ]
    },
    {
      "cell_type": "markdown",
      "metadata": {
        "id": "YAxxgvgPle1Z"
      },
      "source": [
        "# Let's now look at the distribution of the target variable 'is_attributed'."
      ]
    },
    {
      "cell_type": "code",
      "metadata": {
        "colab": {
          "base_uri": "https://localhost:8080/"
        },
        "id": "E_8feS0bj3AS",
        "outputId": "c55a119c-c7ff-4057-e2f4-9f892aa26733"
      },
      "source": [
        "# # target variable distribution\n",
        "train_sample['is_attributed'].value_counts()"
      ],
      "execution_count": 16,
      "outputs": [
        {
          "output_type": "execute_result",
          "data": {
            "text/plain": [
              "0    99773\n",
              "1      227\n",
              "Name: is_attributed, dtype: int64"
            ]
          },
          "metadata": {
            "tags": []
          },
          "execution_count": 16
        }
      ]
    },
    {
      "cell_type": "code",
      "metadata": {
        "colab": {
          "base_uri": "https://localhost:8080/"
        },
        "id": "B-UK3LkTlq4f",
        "outputId": "25de5bd4-27b6-4da0-8da5-db1a102c9614"
      },
      "source": [
        "227/100000*100"
      ],
      "execution_count": 17,
      "outputs": [
        {
          "output_type": "execute_result",
          "data": {
            "text/plain": [
              "0.22699999999999998"
            ]
          },
          "metadata": {
            "tags": []
          },
          "execution_count": 17
        }
      ]
    },
    {
      "cell_type": "markdown",
      "metadata": {
        "id": "wXaCGzHwmFwi"
      },
      "source": [
        "- Only about 0.2% of clicks are 'fraudulent', which is expected in a fraud detection problem. Such high class imbalance is probably going to be the toughest challenge of this problem."
      ]
    },
    {
      "cell_type": "markdown",
      "metadata": {
        "id": "azg6DMnFmaW5"
      },
      "source": [
        "# Exploring the Data - Segmented Univariate Analysis\n",
        "- Let's now look at how the target variable varies with the various predictors."
      ]
    },
    {
      "cell_type": "markdown",
      "metadata": {
        "id": "muOLsYWyZr-3"
      },
      "source": [
        "### Plotting average of target variable(download rate) wrt 'app'"
      ]
    },
    {
      "cell_type": "code",
      "metadata": {
        "colab": {
          "base_uri": "https://localhost:8080/",
          "height": 450
        },
        "id": "tU-9gLz4mbv9",
        "outputId": "669e1de2-d8e2-4322-c4d5-0997f48c0384"
      },
      "source": [
        "## using groupby to make a table of the two\n",
        "app_target = train_sample.groupby('app').is_attributed.agg(['mean','count'])\n",
        "app_target"
      ],
      "execution_count": 18,
      "outputs": [
        {
          "output_type": "execute_result",
          "data": {
            "text/html": [
              "<div>\n",
              "<style scoped>\n",
              "    .dataframe tbody tr th:only-of-type {\n",
              "        vertical-align: middle;\n",
              "    }\n",
              "\n",
              "    .dataframe tbody tr th {\n",
              "        vertical-align: top;\n",
              "    }\n",
              "\n",
              "    .dataframe thead th {\n",
              "        text-align: right;\n",
              "    }\n",
              "</style>\n",
              "<table border=\"1\" class=\"dataframe\">\n",
              "  <thead>\n",
              "    <tr style=\"text-align: right;\">\n",
              "      <th></th>\n",
              "      <th>mean</th>\n",
              "      <th>count</th>\n",
              "    </tr>\n",
              "    <tr>\n",
              "      <th>app</th>\n",
              "      <th></th>\n",
              "      <th></th>\n",
              "    </tr>\n",
              "  </thead>\n",
              "  <tbody>\n",
              "    <tr>\n",
              "      <th>1</th>\n",
              "      <td>0.000000</td>\n",
              "      <td>3135</td>\n",
              "    </tr>\n",
              "    <tr>\n",
              "      <th>2</th>\n",
              "      <td>0.000000</td>\n",
              "      <td>11737</td>\n",
              "    </tr>\n",
              "    <tr>\n",
              "      <th>3</th>\n",
              "      <td>0.000219</td>\n",
              "      <td>18279</td>\n",
              "    </tr>\n",
              "    <tr>\n",
              "      <th>4</th>\n",
              "      <td>0.000000</td>\n",
              "      <td>58</td>\n",
              "    </tr>\n",
              "    <tr>\n",
              "      <th>5</th>\n",
              "      <td>0.074468</td>\n",
              "      <td>188</td>\n",
              "    </tr>\n",
              "    <tr>\n",
              "      <th>...</th>\n",
              "      <td>...</td>\n",
              "      <td>...</td>\n",
              "    </tr>\n",
              "    <tr>\n",
              "      <th>486</th>\n",
              "      <td>0.000000</td>\n",
              "      <td>1</td>\n",
              "    </tr>\n",
              "    <tr>\n",
              "      <th>536</th>\n",
              "      <td>0.000000</td>\n",
              "      <td>1</td>\n",
              "    </tr>\n",
              "    <tr>\n",
              "      <th>538</th>\n",
              "      <td>0.000000</td>\n",
              "      <td>1</td>\n",
              "    </tr>\n",
              "    <tr>\n",
              "      <th>548</th>\n",
              "      <td>0.000000</td>\n",
              "      <td>1</td>\n",
              "    </tr>\n",
              "    <tr>\n",
              "      <th>551</th>\n",
              "      <td>0.000000</td>\n",
              "      <td>1</td>\n",
              "    </tr>\n",
              "  </tbody>\n",
              "</table>\n",
              "<p>161 rows × 2 columns</p>\n",
              "</div>"
            ],
            "text/plain": [
              "         mean  count\n",
              "app                 \n",
              "1    0.000000   3135\n",
              "2    0.000000  11737\n",
              "3    0.000219  18279\n",
              "4    0.000000     58\n",
              "5    0.074468    188\n",
              "..        ...    ...\n",
              "486  0.000000      1\n",
              "536  0.000000      1\n",
              "538  0.000000      1\n",
              "548  0.000000      1\n",
              "551  0.000000      1\n",
              "\n",
              "[161 rows x 2 columns]"
            ]
          },
          "metadata": {
            "tags": []
          },
          "execution_count": 18
        }
      ]
    },
    {
      "cell_type": "markdown",
      "metadata": {
        "id": "Hiw5c5g-cTkt"
      },
      "source": [
        "-This is clearly non-readable, so let's first get rid of all the apps that are very rare (say which comprise of less than 20% clicks) and plot the rest.\n",
        "- Let's create another variable called frequent apps which will contain the top 80% quantile of apps.\n",
        "- Approach:\n",
        "   - 1. Reset index to 'count'\n",
        "   - 2. Select those which satisfy the condition of counts being greater than 80% quantile."
      ]
    },
    {
      "cell_type": "code",
      "metadata": {
        "id": "0F4HxyHhbH0P"
      },
      "source": [
        "## Creating frequent_apps\n",
        "frequent_apps = train_sample.groupby('app').size().reset_index(name='count')"
      ],
      "execution_count": 19,
      "outputs": []
    },
    {
      "cell_type": "code",
      "metadata": {
        "id": "_zn-TSERewDV"
      },
      "source": [
        "## selecting top 80% quantile\n",
        "frequent_apps = frequent_apps[frequent_apps['count']>frequent_apps['count'].quantile(.80)]"
      ],
      "execution_count": 20,
      "outputs": []
    },
    {
      "cell_type": "code",
      "metadata": {
        "colab": {
          "base_uri": "https://localhost:8080/",
          "height": 204
        },
        "id": "pZVQkcmpfUF3",
        "outputId": "a5184739-d62c-4ae4-8fd4-6f3666097e83"
      },
      "source": [
        "## merging with the main dataset\n",
        "frequent_apps = frequent_apps.merge(train_sample, on='app', how='inner')\n",
        "frequent_apps.head()"
      ],
      "execution_count": 21,
      "outputs": [
        {
          "output_type": "execute_result",
          "data": {
            "text/html": [
              "<div>\n",
              "<style scoped>\n",
              "    .dataframe tbody tr th:only-of-type {\n",
              "        vertical-align: middle;\n",
              "    }\n",
              "\n",
              "    .dataframe tbody tr th {\n",
              "        vertical-align: top;\n",
              "    }\n",
              "\n",
              "    .dataframe thead th {\n",
              "        text-align: right;\n",
              "    }\n",
              "</style>\n",
              "<table border=\"1\" class=\"dataframe\">\n",
              "  <thead>\n",
              "    <tr style=\"text-align: right;\">\n",
              "      <th></th>\n",
              "      <th>app</th>\n",
              "      <th>count</th>\n",
              "      <th>ip</th>\n",
              "      <th>device</th>\n",
              "      <th>os</th>\n",
              "      <th>channel</th>\n",
              "      <th>click_time</th>\n",
              "      <th>is_attributed</th>\n",
              "    </tr>\n",
              "  </thead>\n",
              "  <tbody>\n",
              "    <tr>\n",
              "      <th>0</th>\n",
              "      <td>1</td>\n",
              "      <td>3135</td>\n",
              "      <td>17059</td>\n",
              "      <td>1</td>\n",
              "      <td>17</td>\n",
              "      <td>135</td>\n",
              "      <td>2017-11-09 01:17:58</td>\n",
              "      <td>0</td>\n",
              "    </tr>\n",
              "    <tr>\n",
              "      <th>1</th>\n",
              "      <td>1</td>\n",
              "      <td>3135</td>\n",
              "      <td>52432</td>\n",
              "      <td>1</td>\n",
              "      <td>13</td>\n",
              "      <td>115</td>\n",
              "      <td>2017-11-07 17:22:52</td>\n",
              "      <td>0</td>\n",
              "    </tr>\n",
              "    <tr>\n",
              "      <th>2</th>\n",
              "      <td>1</td>\n",
              "      <td>3135</td>\n",
              "      <td>23706</td>\n",
              "      <td>1</td>\n",
              "      <td>27</td>\n",
              "      <td>124</td>\n",
              "      <td>2017-11-07 09:37:21</td>\n",
              "      <td>0</td>\n",
              "    </tr>\n",
              "    <tr>\n",
              "      <th>3</th>\n",
              "      <td>1</td>\n",
              "      <td>3135</td>\n",
              "      <td>58458</td>\n",
              "      <td>1</td>\n",
              "      <td>19</td>\n",
              "      <td>101</td>\n",
              "      <td>2017-11-09 14:27:57</td>\n",
              "      <td>0</td>\n",
              "    </tr>\n",
              "    <tr>\n",
              "      <th>4</th>\n",
              "      <td>1</td>\n",
              "      <td>3135</td>\n",
              "      <td>34067</td>\n",
              "      <td>1</td>\n",
              "      <td>15</td>\n",
              "      <td>134</td>\n",
              "      <td>2017-11-07 15:06:06</td>\n",
              "      <td>0</td>\n",
              "    </tr>\n",
              "  </tbody>\n",
              "</table>\n",
              "</div>"
            ],
            "text/plain": [
              "   app  count     ip  device  os  channel           click_time  is_attributed\n",
              "0    1   3135  17059       1  17      135  2017-11-09 01:17:58              0\n",
              "1    1   3135  52432       1  13      115  2017-11-07 17:22:52              0\n",
              "2    1   3135  23706       1  27      124  2017-11-07 09:37:21              0\n",
              "3    1   3135  58458       1  19      101  2017-11-09 14:27:57              0\n",
              "4    1   3135  34067       1  15      134  2017-11-07 15:06:06              0"
            ]
          },
          "metadata": {
            "tags": []
          },
          "execution_count": 21
        }
      ]
    },
    {
      "cell_type": "code",
      "metadata": {
        "colab": {
          "base_uri": "https://localhost:8080/",
          "height": 719
        },
        "id": "r9y6AMHCffUU",
        "outputId": "2e5c761a-f435-4075-8e77-f4c99c7518fa"
      },
      "source": [
        "## plotting\n",
        "plt.figure(figsize=(16,12))\n",
        "sns.barplot(data=frequent_apps,y='count',x='is_attributed')\n",
        "plt.show()"
      ],
      "execution_count": 24,
      "outputs": [
        {
          "output_type": "display_data",
          "data": {
            "image/png": "[encoded data removed]",
            "text/plain": [
              "<Figure size 1152x864 with 1 Axes>"
            ]
          },
          "metadata": {
            "tags": [],
            "needs_background": "light"
          }
        }
      ]
    },
    {
      "cell_type": "code",
      "metadata": {
        "colab": {
          "base_uri": "https://localhost:8080/",
          "height": 715
        },
        "id": "FgKuKbHHgAim",
        "outputId": "bcebd0ba-6c7d-4f4a-c01b-a8e64f9101a5"
      },
      "source": [
        "plt.figure(figsize=(16,12))\n",
        "sns.barplot(data=frequent_apps,y='app',x='is_attributed')\n",
        "plt.show()"
      ],
      "execution_count": 27,
      "outputs": [
        {
          "output_type": "display_data",
          "data": {
            "image/png": "[encoded data removed]",
            "text/plain": [
              "<Figure size 1152x864 with 1 Axes>"
            ]
          },
          "metadata": {
            "tags": [],
            "needs_background": "light"
          }
        }
      ]
    },
    {
      "cell_type": "code",
      "metadata": {
        "colab": {
          "base_uri": "https://localhost:8080/",
          "height": 714
        },
        "id": "5e3GbfkngVH0",
        "outputId": "f1a8f3cd-ea93-4366-ca9f-730fe751f9c5"
      },
      "source": [
        "plt.figure(figsize=(16,12))\n",
        "sns.countplot(data=frequent_apps,y='app',hue='is_attributed')\n",
        "plt.show()"
      ],
      "execution_count": 31,
      "outputs": [
        {
          "output_type": "display_data",
          "data": {
            "image/png": "[encoded data removed]",
            "text/plain": [
              "<Figure size 1152x864 with 1 Axes>"
            ]
          },
          "metadata": {
            "tags": [],
            "needs_background": "light"
          }
        }
      ]
    },
    {
      "cell_type": "markdown",
      "metadata": {
        "id": "ErdaYKJ8hLnt"
      },
      "source": [
        "- We can do lots of other interesting ananlysis with the existing features. For now, let's create some new features which will probably improve the model."
      ]
    },
    {
      "cell_type": "markdown",
      "metadata": {
        "id": "UitxaQNohOZN"
      },
      "source": [
        "# **Feature Engineering**\n",
        "- Let's now derive some new features from the existing ones. There are a number of features one can extract from click_time itself, and by grouping combinations of IP with other features.\n"
      ]
    },
    {
      "cell_type": "markdown",
      "metadata": {
        "id": "x_YDM84ei5hf"
      },
      "source": [
        "## **Datetime Based Features**\n",
        "- We will be creating a function timeFeatures which takes in a dataframe, adds date/time based columns to it, and returns the modified dataframe."
      ]
    },
    {
      "cell_type": "code",
      "metadata": {
        "id": "ggh_yS8Zjjcp"
      },
      "source": [
        "def timeFeatures(df):\n",
        "  df['datetime'] = pd.to_datetime(df['click_time']) ## this will convert to click_time variable to datetime object\n",
        "  ## now we will use the datetime object to derive multiple features like day_of_week,day_of_year,month,hour\n",
        "  ## creating column day_of_week\n",
        "  df['day_of_week'] = df['datetime'].dt.day_of_week\n",
        "  ## creating column day_of_year\n",
        "  df['day_of_year'] = df['datetime'].dt.day_of_year\n",
        "  ## creatig column month\n",
        "  df['month'] = df['datetime'].dt.month\n",
        "  ## creating column hour\n",
        "  df['hour'] = df['datetime'].dt.hour\n",
        "  return df\n",
        "\n",
        "\n"
      ],
      "execution_count": 34,
      "outputs": []
    },
    {
      "cell_type": "code",
      "metadata": {
        "id": "hQySIhTVlpw2"
      },
      "source": [
        ""
      ],
      "execution_count": null,
      "outputs": []
    }
  ]
}